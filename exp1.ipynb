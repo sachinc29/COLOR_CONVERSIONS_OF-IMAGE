{
 "cells": [
  {
   "cell_type": "code",
   "execution_count": 19,
   "id": "aa6b70c0-5d24-487e-8083-26f624ea7d46",
   "metadata": {},
   "outputs": [],
   "source": [
    "import cv2\n",
    "import matplotlib.pyplot as plt"
   ]
  },
  {
   "cell_type": "code",
   "execution_count": 49,
   "id": "1bb531d6-471d-40e7-aaeb-a139ec6f82b7",
   "metadata": {},
   "outputs": [],
   "source": [
    "# Read the image using OpenCV\n",
    "img = cv2.imread('image3', cv2.IMREAD_COLOR)"
   ]
  },
  {
   "cell_type": "code",
   "execution_count": 51,
   "id": "e66a3394-7f1c-443e-a2d0-d3b8f509901a",
   "metadata": {},
   "outputs": [],
   "source": [
    "import cv2\n",
    "image = cv2.imread('image3.jpg')\n",
    "# Display the image in a window\n",
    "cv2.imshow('Image Window', image)\n",
    "# Wait indefinitely for a key press\n",
    "cv2.waitKey(0)\n",
    "# Destroy all windows created by OpenCV\n",
    "cv2.destroyAllWindows()"
   ]
  },
  {
   "cell_type": "code",
   "execution_count": 53,
   "id": "57672621-4900-4b2f-9ad4-bbce887c558c",
   "metadata": {},
   "outputs": [
    {
     "ename": "error",
     "evalue": "OpenCV(4.10.0) D:\\a\\opencv-python\\opencv-python\\opencv\\modules\\highgui\\src\\window.cpp:973: error: (-215:Assertion failed) size.width>0 && size.height>0 in function 'cv::imshow'\n",
     "output_type": "error",
     "traceback": [
      "\u001b[1;31m---------------------------------------------------------------------------\u001b[0m",
      "\u001b[1;31merror\u001b[0m                                     Traceback (most recent call last)",
      "Cell \u001b[1;32mIn[53], line 7\u001b[0m\n\u001b[0;32m      4\u001b[0m res \u001b[38;5;241m=\u001b[39m cv2\u001b[38;5;241m.\u001b[39mline(img,(\u001b[38;5;241m0\u001b[39m,\u001b[38;5;241m0\u001b[39m),(\u001b[38;5;241m612\u001b[39m,\u001b[38;5;241m612\u001b[39m),(\u001b[38;5;241m100\u001b[39m,\u001b[38;5;241m100\u001b[39m,\u001b[38;5;241m205\u001b[39m),\u001b[38;5;241m10\u001b[39m)\n\u001b[0;32m      6\u001b[0m \u001b[38;5;66;03m# Display the HSV image\u001b[39;00m\n\u001b[1;32m----> 7\u001b[0m cv2\u001b[38;5;241m.\u001b[39mimshow(\u001b[38;5;124m'\u001b[39m\u001b[38;5;124mImage Window\u001b[39m\u001b[38;5;124m'\u001b[39m, res)\n\u001b[0;32m      8\u001b[0m cv2\u001b[38;5;241m.\u001b[39mwaitKey(\u001b[38;5;241m0\u001b[39m)\n\u001b[0;32m      9\u001b[0m cv2\u001b[38;5;241m.\u001b[39mdestroyAllWindows()\n",
      "\u001b[1;31merror\u001b[0m: OpenCV(4.10.0) D:\\a\\opencv-python\\opencv-python\\opencv\\modules\\highgui\\src\\window.cpp:973: error: (-215:Assertion failed) size.width>0 && size.height>0 in function 'cv::imshow'\n"
     ]
    }
   ],
   "source": [
    "import cv2\n",
    "image = cv2.imread(\"image3.jpg\")\n",
    "image = cv2.resize(image, (612, 612))\n",
    "res = cv2.line(img,(0,0),(612,612),(100,100,205),10)\n",
    "\n",
    "# Display the HSV image\n",
    "cv2.imshow('Image Window', res)\n",
    "cv2.waitKey(0)\n",
    "cv2.destroyAllWindows()"
   ]
  },
  {
   "cell_type": "code",
   "execution_count": 11,
   "id": "b89f9d04-85d5-4095-bba3-cd1b43ee34e6",
   "metadata": {},
   "outputs": [],
   "source": [
    "import cv2\n",
    "image = cv2.imread(\"image3.jpg\")\n",
    "image = cv2.resize(image, (612, 612))\n",
    "res = cv2.line(image,(0,0),(612,612),(100,100,205),10)\n",
    "\n",
    "# Display the HSV image\n",
    "cv2.imshow('Sachin.C', res)\n",
    "cv2.waitKey(0)\n",
    "cv2.destroyAllWindows()"
   ]
  },
  {
   "cell_type": "code",
   "execution_count": 55,
   "id": "ba4cdd47-f817-4b48-b3c6-64fc0e20c952",
   "metadata": {},
   "outputs": [
    {
     "ename": "error",
     "evalue": "OpenCV(4.10.0) D:\\a\\opencv-python\\opencv-python\\opencv\\modules\\highgui\\src\\window.cpp:973: error: (-215:Assertion failed) size.width>0 && size.height>0 in function 'cv::imshow'\n",
     "output_type": "error",
     "traceback": [
      "\u001b[1;31m---------------------------------------------------------------------------\u001b[0m",
      "\u001b[1;31merror\u001b[0m                                     Traceback (most recent call last)",
      "Cell \u001b[1;32mIn[55], line 7\u001b[0m\n\u001b[0;32m      4\u001b[0m res \u001b[38;5;241m=\u001b[39m cv2\u001b[38;5;241m.\u001b[39mline(img,(\u001b[38;5;241m0\u001b[39m,\u001b[38;5;241m0\u001b[39m),(\u001b[38;5;241m612\u001b[39m,\u001b[38;5;241m612\u001b[39m),(\u001b[38;5;241m100\u001b[39m,\u001b[38;5;241m100\u001b[39m,\u001b[38;5;241m205\u001b[39m),\u001b[38;5;241m10\u001b[39m)\n\u001b[0;32m      6\u001b[0m \u001b[38;5;66;03m# Display the HSV image\u001b[39;00m\n\u001b[1;32m----> 7\u001b[0m cv2\u001b[38;5;241m.\u001b[39mimshow(\u001b[38;5;124m'\u001b[39m\u001b[38;5;124mImage Window\u001b[39m\u001b[38;5;124m'\u001b[39m, res)\n\u001b[0;32m      8\u001b[0m cv2\u001b[38;5;241m.\u001b[39mwaitKey(\u001b[38;5;241m0\u001b[39m)\n\u001b[0;32m      9\u001b[0m cv2\u001b[38;5;241m.\u001b[39mdestroyAllWindows()\n",
      "\u001b[1;31merror\u001b[0m: OpenCV(4.10.0) D:\\a\\opencv-python\\opencv-python\\opencv\\modules\\highgui\\src\\window.cpp:973: error: (-215:Assertion failed) size.width>0 && size.height>0 in function 'cv::imshow'\n"
     ]
    }
   ],
   "source": [
    "import cv2\n",
    "image = cv2.imread(\"image3.jpg\")\n",
    "image = cv2.resize(image, (612, 612))\n",
    "res = cv2.line(img,(0,0),(612,612),(100,100,205),10)\n",
    "\n",
    "# Display the HSV image\n",
    "cv2.imshow('Image Window', res)\n",
    "cv2.waitKey(0)\n",
    "cv2.destroyAllWindows()"
   ]
  },
  {
   "cell_type": "code",
   "execution_count": 42,
   "id": "c31791c4-1cc8-40da-80f5-3131e91cd615",
   "metadata": {},
   "outputs": [],
   "source": [
    "import cv2\n",
    "image = cv2.imread('image3.jpg',1)\n",
    "image = cv2.resize(image,(300,200))\n",
    "cv2.imshow('ORIGINAL IMAGE',image)\n",
    "hsv = cv2.cvtColor(image,cv2.COLOR_RGB2HSV)\n",
    "cv2.imshow('RGB2HSV',hsv)\n",
    "cv2.waitKey(0)\n",
    "cv2.destroyAllWindows()"
   ]
  },
  {
   "cell_type": "code",
   "execution_count": 35,
   "id": "d297c951-c167-4eee-8273-c7666f472ff8",
   "metadata": {},
   "outputs": [],
   "source": [
    "import cv2\n",
    "image = cv2.imread('image3.jpg',1)\n",
    "image = cv2.resize(image,(300,200))\n",
    "cv2.imshow('ORIGINAL IMAGE',image)\n",
    "gray = cv2.cvtColor(image,cv2.COLOR_RGB2GRAY)\n",
    "cv2.imshow('RGB2GRAY',gray)\n",
    "cv2.waitKey(0)\n",
    "cv2.destroyAllWindows()"
   ]
  },
  {
   "cell_type": "code",
   "execution_count": 44,
   "id": "cd720c0d-51dc-4457-8a97-53d521bdb2eb",
   "metadata": {},
   "outputs": [],
   "source": [
    "import cv2\n",
    "image = cv2.imread('image3.jpg',1)\n",
    "image = cv2.resize(image,(300,200))\n",
    "cv2.imshow('ORIGINAL IMAGE',image)\n",
    "YCrCb = cv2.cvtColor(image, cv2.COLOR_BGR2YCrCb)\n",
    "cv2.imshow('RGB-2-YCrCb',YCrCb)\n",
    "cv2.waitKey(0)\n",
    "cv2.destroyAllWindows()"
   ]
  },
  {
   "cell_type": "code",
   "execution_count": 45,
   "id": "4d5140da-71e7-4f7e-ab44-a088d1b8f53d",
   "metadata": {},
   "outputs": [],
   "source": [
    "import cv2\n",
    "image = cv2.imread('image3.jpg',1)\n",
    "image = cv2.resize(image,(300,200))\n",
    "cv2.imshow('ORIGINAL IMAGE',image)\n",
    "RGB = cv2.cvtColor(image,cv2.COLOR_HSV2BGR)\n",
    "cv2.imshow('HSV2RGB',RGB)\n",
    "cv2.waitKey(0)\n",
    "cv2.destroyAllWindows()"
   ]
  },
  {
   "cell_type": "code",
   "execution_count": 14,
   "id": "fba4a541-7057-412b-b467-da2bbc909197",
   "metadata": {},
   "outputs": [
    {
     "name": "stdout",
     "output_type": "stream",
     "text": [
      "Pixel value at (100, 100): [27 22  5]\n"
     ]
    }
   ],
   "source": [
    "pixel_value = image[100, 100]\n",
    "print(f\"Pixel value at (100, 100): {pixel_value}\")"
   ]
  },
  {
   "cell_type": "code",
   "execution_count": 46,
   "id": "34f0c3bb-2638-4676-a86a-7ae72c174f3b",
   "metadata": {},
   "outputs": [],
   "source": [
    "import cv2\n",
    "image = cv2.imread('image3.jpg',1)\n",
    "image = cv2.resize(image,(400,300))\n",
    "cv2.imshow('ORIGINAL IMAGE',image)\n",
    "image[200, 200] = [255, 255, 255] \n",
    "cv2.imshow('MODIFIED IMAGE', image)\n",
    "cv2.waitKey(0)\n",
    "cv2.destroyAllWindows()"
   ]
  },
  {
   "cell_type": "code",
   "execution_count": 47,
   "id": "48c97133-7178-4227-9a2e-ee837633416a",
   "metadata": {},
   "outputs": [],
   "source": [
    "cv2.imshow('ORIGINAL IMAGE',image)\n",
    "resized_image = cv2.resize(image, (image.shape[1] // 2, image.shape[0] // 2))\n",
    "cv2.imshow('RESIZED IMAGE', resized_image)\n",
    "cv2.waitKey(0)\n",
    "cv2.destroyAllWindows()"
   ]
  },
  {
   "cell_type": "code",
   "execution_count": null,
   "id": "d4b9ed85-d965-4e61-b2f6-03e07e1e4abf",
   "metadata": {},
   "outputs": [],
   "source": [
    "\n",
    "x, y = 50, 50\n",
    "width, height = 100, 100\n",
    "roi = image[y:y + height, x:x + width]\n",
    "cv2.imshow('CROPPED IMAGE', roi)\n",
    "cv2.waitKey(0)\n",
    "cv2.destroyAllWindows()"
   ]
  },
  {
   "cell_type": "code",
   "execution_count": 5,
   "id": "334ef723-f1b6-41f7-88c2-695422d8e24a",
   "metadata": {},
   "outputs": [],
   "source": [
    "import cv2\n",
    "image = cv2.imread(\"image3.jpg\")\n",
    "image = cv2.resize(image,(300,200))\n",
    "res=cv2.rotate(image,cv2.ROTATE_180)\n",
    "cv2.imshow('ORIGINAL IMAGE',image)\n",
    "cv2.imshow('FLIPPED IMAGE', res)\n",
    "cv2.waitKey(0)\n",
    "cv2.destroyAllWindows()"
   ]
  },
  {
   "cell_type": "code",
   "execution_count": null,
   "id": "3e68869c-1360-4ec3-b612-aafae94b0a9b",
   "metadata": {},
   "outputs": [],
   "source": [
    "\n",
    "res=cv2.rotate(image,cv2.ROTATE_90_CLOCKWISE)\n",
    "cv2.imshow('ORIGINAL IMAGE',image)\n",
    "cv2.imshow('FLIPPED IMAGE', res)\n",
    "cv2.waitKey(0)\n",
    "cv2.destroyAllWindows()"
   ]
  },
  {
   "cell_type": "code",
   "execution_count": null,
   "id": "dc56de04-230a-4ecd-9376-8d91deab9fa7",
   "metadata": {},
   "outputs": [],
   "source": [
    "import cv2\n",
    "img = cv2.imread(\"image3.jpg\")\n",
    "img = cv2.resize(img,(300,200))\n",
    "cv2.imwrite('nature_pic.jpg',img)"
   ]
  },
  {
   "cell_type": "code",
   "execution_count": 32,
   "id": "2d620f93-879a-4b71-9f84-1a05ad740a65",
   "metadata": {},
   "outputs": [],
   "source": [
    "import cv2\n",
    "image = cv2.imread(\"image3.jpg\")\n",
    "image = cv2.resize(image, (400, 300))\n",
    "res = cv2.line(image, (0, 0), (image.shape[1], image.shape[0]), (255,0,0), 10)\n",
    "cv2.imshow('Sachin.C', res)\n",
    "cv2.waitKey(0)\n",
    "cv2.destroyAllWindows()"
   ]
  },
  {
   "cell_type": "code",
   "execution_count": 2,
   "id": "d6bb85b0-8160-4c4a-9d5c-52b0ba4d0140",
   "metadata": {},
   "outputs": [
    {
     "name": "stdout",
     "output_type": "stream",
     "text": [
      "Pixel value at (100, 100): [217 153 118]\n"
     ]
    }
   ],
   "source": [
    "import cv2\n",
    "image = cv2.imread(\"image3.jpg\")\n",
    "pixel_value = image[100, 100]\n",
    "print(f\"Pixel value at (100, 100): {pixel_value}\")"
   ]
  },
  {
   "cell_type": "code",
   "execution_count": null,
   "id": "b38f3f6f-d300-402e-b5d7-c9fa76899bab",
   "metadata": {},
   "outputs": [],
   "source": []
  }
 ],
 "metadata": {
  "kernelspec": {
   "display_name": "Python 3 (ipykernel)",
   "language": "python",
   "name": "python3"
  },
  "language_info": {
   "codemirror_mode": {
    "name": "ipython",
    "version": 3
   },
   "file_extension": ".py",
   "mimetype": "text/x-python",
   "name": "python",
   "nbconvert_exporter": "python",
   "pygments_lexer": "ipython3",
   "version": "3.12.4"
  }
 },
 "nbformat": 4,
 "nbformat_minor": 5
}
